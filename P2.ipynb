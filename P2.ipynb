{
 "cells": [
  {
   "cell_type": "markdown",
   "metadata": {},
   "source": [
    "# Self-Driving Car Engineer Nanodegree\n",
    "## Project: **Advanced Lane Finding on the Road** \n",
    "***\n",
    "In this project, I used the tools I learned about in the lessons in udacity to track lane by getting segmentation on the road image, which is succeeded project from the [previous one](https://github.com/Akitsuyoshi/CarND-LaneLines-P1). Like the previous project, percepron in autonomous vehicle is for getting where it is on the road. \n",
    "\n",
    "Also I may use some of the function that I made in the last project to identify some feature in images. I found that there's two ways to deal with those segmentation deep learning and using computer vision soft, like opencv manually. Deep learning sounds cool but I might need some practice for that, so I chose to use python and opencv aproach instead. Still it is a cutting edge tech I suppose,,,\n",
    "\n",
    "Aside from implementing code here, there is a brif writeup in readme to complete this project.\n",
    "***\n",
    "The tools that I will use in this project to detect lane lines and determine the lane curvature are following.\n",
    "* Camera calibration\n",
    "* Distortion correction\n",
    "* Color/gradient threshold\n",
    "* Perspective transform\n",
    "\n",
    "Above that, I might use tools below that I used previous project. I put it here to remember for my own sake.\n",
    "* color selection\n",
    "* region of interest selection\n",
    "* grayscaling\n",
    "* Gaussian smoothing\n",
    "* Canny Edge Detection and Hough Transform"
   ]
  },
  {
   "cell_type": "markdown",
   "metadata": {},
   "source": [
    "\n",
    "## Goal\n",
    "***\n",
    "Now I got overview of this project, let's take a look training / expected output image first.\n",
    "\n",
    "\n",
    "<figure>\n",
    " <img src=\"test_images/straight_lines1.jpg\" width=\"380\" alt=\"Combined Image\" />\n",
    " <figcaption>\n",
    " <p></p> \n",
    " <p style=\"text-align: center;\"> Original input image should look something like this (above) </p> \n",
    " </figcaption>\n",
    "</figure>\n",
    " <p></p> \n",
    "<figure>\n",
    " <img src=\"examples/example_output.jpg\" width=\"380\" alt=\"Combined Image\" />\n",
    " <figcaption>\n",
    " <p></p> \n",
    " <p style=\"text-align: center;\"> Goal is to implement pipeline to get output like this (above) </p> \n",
    " </figcaption>\n",
    "</figure>\n",
    "\n",
    "---\n",
    "Once my pipeline track lanes in image, it can apply to video as well. I will try it out to see how well it works in video later.\n",
    "\n",
    "Remember, the steps are the following:\n",
    "\n",
    "* Compute the camera calibration matrix and distortion coefficients given a set of chessboard images.\n",
    "* Apply a distortion correction to raw images.\n",
    "* Use color transforms, gradients, etc., to create a thresholded binary image.\n",
    "* Apply a perspective transform to rectify binary image (\"birds-eye view\").\n",
    "* Detect lane pixels and fit to find the lane boundary.\n",
    "* Determine the curvature of the lane and vehicle position with respect to center.\n",
    "* Warp the detected lane boundaries back onto the original image.\n",
    "* Output visual display of the lane boundaries and numerical estimation of lane curvature and vehicle position."
   ]
  },
  {
   "cell_type": "markdown",
   "metadata": {},
   "source": [
    "## Programming time!!(>ω<)\n",
    "***"
   ]
  },
  {
   "cell_type": "markdown",
   "metadata": {},
   "source": [
    "### Import Packages"
   ]
  },
  {
   "cell_type": "code",
   "execution_count": 2,
   "metadata": {},
   "outputs": [],
   "source": [
    "import matplotlib.pyplot as plt\n",
    "import numpy as np\n",
    "import cv2\n",
    "import glob\n",
    "%matplotlib inline"
   ]
  }
 ],
 "metadata": {
  "kernelspec": {
   "display_name": "Python 3",
   "language": "python",
   "name": "python3"
  },
  "language_info": {
   "codemirror_mode": {
    "name": "ipython",
    "version": 3
   },
   "file_extension": ".py",
   "mimetype": "text/x-python",
   "name": "python",
   "nbconvert_exporter": "python",
   "pygments_lexer": "ipython3",
   "version": "3.5.2"
  },
  "widgets": {
   "state": {},
   "version": "1.1.2"
  }
 },
 "nbformat": 4,
 "nbformat_minor": 2
}
